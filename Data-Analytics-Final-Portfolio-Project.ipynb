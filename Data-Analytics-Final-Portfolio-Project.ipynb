{
 "cells": [
  {
   "cell_type": "markdown",
   "metadata": {},
   "source": [
    "# Analysis of Family Houses and Apartments in Spanish (2019)"
   ]
  },
  {
   "cell_type": "markdown",
   "metadata": {},
   "source": [
    "## Table of Contents\n",
    "\n",
    "- [Introduction](#introduction)\n",
    "- [Objectives](#objectives)\n",
    "- [Data Source and Structure](#data-source-and-structure)\n",
    "  - [Dataset Variables](#dataset-variables)\n",
    "- [Data Collection and Preprocessing](#data-collection-and-preprocessing)\n",
    "  - [Import Necessary Libraries](#import-necessary-libraries)\n",
    "  - [Function Declarations](#function-declarations)\n",
    "  - [Data Import and Initial Exploration](#data-import-and-initial-exploration)\n",
    "- [Data Transformation](#data-transformation)\n",
    "  - [Data Filtering](#data-filtering)\n",
    "  - [Data Deduplication](#data-deduplication)\n",
    "  - [Handling Missing Data](#handling-missing-data)\n",
    "  - [Individual Variable Analysis for Data Cleaning](#individual-variable-analysis-for-data-cleaning)\n",
    "  - [Data derivation](#data-derivation)\n",
    "  - [Saving the Cleaned Data](#saving-the-cleaned-data)\n",
    "  - [Geolocalization](#geolocalization)\n",
    "  - [Processed Data Transformation](#processed-data-transformation)\n",
    "\n"
   ]
  },
  {
   "cell_type": "markdown",
   "metadata": {},
   "source": [
    "## Introduction\n",
    "\n",
    "The family housing market in Spain reached approximately €165.79 billion in 2023 and is expected to grow at a compound annual rate of 5.8%, reaching around €276.69 billion by 2032. These figures highlight the importance and expansion of this sector in the Spanish economy.\n",
    "\n",
    "Understanding regional particularities is crucial for buyers, sellers, and investors, as it provides valuable insights into the factors influencing prices and regional variations. This work aims to analyze apartments and family houses to offer valuable support to stakeholders, helping them make informed decisions in this evolving market."
   ]
  },
  {
   "cell_type": "markdown",
   "metadata": {},
   "source": [
    "## Objectives\n",
    "\n",
    "The primary goal of this project is to perform a statistical analysis of apartments and family houses for sale in various Spanish provinces during 2019. The analysis will employ geolocation techniques and data visualization tools such as Tableau. The aim is to provide a detailed understanding of the characteristics and spatial distribution of the Spanish housing market during this period. Given the target audience of U.S. investors and private buyers, terminology will be adapted to align with their context. The study aims to achieve the following objectives:\n",
    "\n",
    "- Clean and explore the data to ensure accuracy and reliability.\n",
    "- Use geolocation techniques to convert property addresses into geographic coordinates.\n",
    "- Calculate and summarize key statistical measures for property prices and characteristics.\n",
    "- Visualize the geographic distribution and identify regional price differences.\n",
    "- Analyze correlations between property features and their prices.\n",
    "- Apply clustering techniques to identify patterns and segment the real estate market.\n",
    "- Perform hypothesis testing to compare prices across different regions and assess the impact of specific features.\n",
    "- Develop and validate linear regression models to predict property prices.\n",
    "- Design and build an interactive Tableau dashboard for dynamic data exploration.\n",
    "- Present key findings from the data analysis and provide practical recommendations based on the insights gained.\n"
   ]
  },
  {
   "cell_type": "markdown",
   "metadata": {},
   "source": [
    "## Data Source and Structure\n",
    "\n",
    "The dataset used in this project was sourced from Kaggle: [Spanish Housing Dataset](https://www.kaggle.com/datasets/thedevastator/spanish-housing-dataset-location-size-price-and/data) \n",
    "\n",
    "Was originally collected through web scraping from the [Idealista S.A.U.](https://www.idealista.com/) by github user [trueuoc](https://github.com/trueuoc) and published under the license: [CC0 1.0 Universal (CC0 1.0) - Public Domain Dedication](https://creativecommons.org/publicdomain/zero/1.0/legalcode.en)\n",
    "\n",
    "It contains key variables that describe real estate listings, including property details (e.g., price, size, condition), location (e.g., city, district), and amenities (e.g., air conditioning, garden, pool). The data is structured with clear identifiers and includes both categorical and numerical variables, allowing for robust analysis.\n",
    "\n",
    "### Dataset Variables\n",
    "\n",
    "- **ad_description**: Property listing description.\n",
    "- **ad_last_update**: Date of the last listing update.\n",
    "- **air_conditioner**: Whether the property has air conditioning (0: No, 1: Yes).\n",
    "- **balcony**: Whether the property has a balcony (0: No, 1: Yes).\n",
    "- **bath_num**: Number of bathrooms in the property.\n",
    "- **built_in_wardrobe**: Whether the property has built-in wardrobes (0: No, 1: Yes).\n",
    "- **chimney**: Whether the property has a chimney (0: No, 1: Yes).\n",
    "- **condition**: Condition of the property (e.g., second-hand/good condition).\n",
    "- **construct_date**: Year of construction of the property.\n",
    "- **energetic_certif**: Property’s energy certification.\n",
    "- **floor**: Floor on which the property is located.\n",
    "- **garage**: Indicates whether it has a garage space.\n",
    "- **garden**: Whether the property has a garden (0: No, 1: Yes).\n",
    "- **ground_size**: Size of the property's land.\n",
    "- **heating**: Whether the property has heating (0: No, 1: Yes).\n",
    "- **house_id**: A unique property ID number.\n",
    "- **house_type**: Type of housing.\n",
    "- **kitchen**: Whether the property has a kitchen.\n",
    "- **lift**: Whether the property has an elevator (0: No, 1: Yes).\n",
    "- **loc_city**: City where the property is located.\n",
    "- **loc_district**: District.\n",
    "- **loc_full**: Full address of the property.\n",
    "- **loc_neigh**: Neighborhood.\n",
    "- **loc_street**: Street.\n",
    "- **loc_zone**: Zone.\n",
    "- **m2_real**: Actual square meters of the property.\n",
    "- **m2_useful**: Usable square meters.\n",
    "- **obtention_date**: Date when the data was collected.\n",
    "- **orientation**: Property's orientation.\n",
    "- **price**: Property price.\n",
    "- **reduce_mobility**: Whether the house is adapted for people with reduced mobility.\n",
    "- **room_num**: Number of rooms in the property.\n",
    "- **storage_room**: Whether the property has a storage room (0: No, 1: Yes).\n",
    "- **swimming_pool**: Whether the property has a swimming pool (0: No, 1: Yes).\n",
    "- **terrace**: Whether the property has a terrace (0: No, 1: Yes).\n",
    "- **unfurnished**: Whether the property is unfurnished.\n",
    "- **number_of_companies_prov**: Number of companies in the province.\n",
    "- **population_prov**: Population of the province.\n",
    "- **companies_prov_vs_national_%**: Percentage of companies in the province compared to the national total.\n",
    "- **population_prov_vs_national_%**: Percentage of the population in the province compared to the national total.\n",
    "- **renta_media_prov**: Average income in the province."
   ]
  },
  {
   "cell_type": "markdown",
   "metadata": {},
   "source": [
    "## Data Collection and Preprocessing"
   ]
  },
  {
   "cell_type": "markdown",
   "metadata": {},
   "source": [
    "### Import Necessary Libraries"
   ]
  },
  {
   "cell_type": "markdown",
   "metadata": {},
   "source": [
    "**Modules**"
   ]
  },
  {
   "cell_type": "code",
   "execution_count": 51,
   "metadata": {},
   "outputs": [],
   "source": [
    "import pandas as pd\n",
    "import seaborn as sns\n",
    "import matplotlib.pyplot as plt\n",
    "import numpy as np\n",
    "import gc"
   ]
  },
  {
   "cell_type": "markdown",
   "metadata": {},
   "source": [
    "**Pandas Settings**"
   ]
  },
  {
   "cell_type": "code",
   "execution_count": 2,
   "metadata": {},
   "outputs": [],
   "source": [
    "# Set Pandas to Display All Columns\n",
    "pd.set_option('display.max_columns', None)"
   ]
  },
  {
   "cell_type": "markdown",
   "metadata": {},
   "source": [
    "**Scripts**"
   ]
  },
  {
   "cell_type": "code",
   "execution_count": 3,
   "metadata": {},
   "outputs": [],
   "source": [
    "import sys\n",
    "sys.path.append('scripts')\n",
    "from graphins import *"
   ]
  },
  {
   "cell_type": "markdown",
   "metadata": {},
   "source": [
    "**Graphins documentation**\n",
    "\n",
    "Funtions: \n",
    "\n",
    "- **filterdf**(df, col1, val1, col2, val2): Generates a dataframe filtered by two variables.\n",
    "- **binary_categorical_view**(dataframe): Visualizes binary categorical variables: `air_conditioner`, `chimney`, `garden`, `storage_room`, `swimming_pool`, `terrace`.\n",
    "- **categorical_features_view**(dataframe): Visualizes categorical variables: `room_num`, `bath_num`, `condition`.\n",
    "- **boxplot_view**(dataframe, column): Visualizes a specific column.\n",
    "- **boxplot_view_wo**(dataframe, column): Visualizes a specific column without displaying outliers.\n",
    "- **distribution_views**(dataframe): Visualizes histograms for the variables: `m2_real`, `price`.\n",
    "- **boxplot_with_mean**(dataframe, group_col, target_col, show_outliers, figsize): Displays boxplots of a variable grouped by another variable's values.\n",
    "- **plot_histogram**(df, column, bins=20, kde=True, figsize=(10, 6), xlim=None): Displays a histogram of a variable, which can be segmented.\n",
    "- **plot_distribution_by_price_segment**(df): Groups data by price segment and type of property, generating a heatmap."
   ]
  },
  {
   "cell_type": "markdown",
   "metadata": {},
   "source": [
    "### Data Import and Initial Exploration"
   ]
  },
  {
   "cell_type": "code",
   "execution_count": 4,
   "metadata": {},
   "outputs": [],
   "source": [
    "raw_data = pd.read_csv('data/source/spanish_houses.csv')"
   ]
  },
  {
   "cell_type": "code",
   "execution_count": 5,
   "metadata": {},
   "outputs": [
    {
     "data": {
      "text/html": [
       "<div>\n",
       "<style scoped>\n",
       "    .dataframe tbody tr th:only-of-type {\n",
       "        vertical-align: middle;\n",
       "    }\n",
       "\n",
       "    .dataframe tbody tr th {\n",
       "        vertical-align: top;\n",
       "    }\n",
       "\n",
       "    .dataframe thead th {\n",
       "        text-align: right;\n",
       "    }\n",
       "</style>\n",
       "<table border=\"1\" class=\"dataframe\">\n",
       "  <thead>\n",
       "    <tr style=\"text-align: right;\">\n",
       "      <th></th>\n",
       "      <th>0</th>\n",
       "      <th>1</th>\n",
       "      <th>2</th>\n",
       "      <th>3</th>\n",
       "      <th>4</th>\n",
       "    </tr>\n",
       "  </thead>\n",
       "  <tbody>\n",
       "    <tr>\n",
       "      <th>ad_description</th>\n",
       "      <td>Precio chalet individual en la localidad de Ab...</td>\n",
       "      <td>Atico de 80m2, para entrar a vivir, con salón ...</td>\n",
       "      <td>B/ Etxaguen. Casa de reciente construcción con...</td>\n",
       "      <td>Se vende vivienda en abornikano (ayuntamiento ...</td>\n",
       "      <td>Negociables.</td>\n",
       "    </tr>\n",
       "    <tr>\n",
       "      <th>ad_last_update</th>\n",
       "      <td>Anuncio actualizado el 27 de marzo</td>\n",
       "      <td>más de 5 meses sin actualizar</td>\n",
       "      <td>más de 5 meses sin actualizar</td>\n",
       "      <td>más de 5 meses sin actualizar</td>\n",
       "      <td>más de 5 meses sin actualizar</td>\n",
       "    </tr>\n",
       "    <tr>\n",
       "      <th>air_conditioner</th>\n",
       "      <td>0</td>\n",
       "      <td>0</td>\n",
       "      <td>0</td>\n",
       "      <td>0</td>\n",
       "      <td>0</td>\n",
       "    </tr>\n",
       "    <tr>\n",
       "      <th>balcony</th>\n",
       "      <td>0</td>\n",
       "      <td>0</td>\n",
       "      <td>0</td>\n",
       "      <td>1</td>\n",
       "      <td>0</td>\n",
       "    </tr>\n",
       "    <tr>\n",
       "      <th>bath_num</th>\n",
       "      <td>2</td>\n",
       "      <td>2</td>\n",
       "      <td>3</td>\n",
       "      <td>1</td>\n",
       "      <td>1</td>\n",
       "    </tr>\n",
       "    <tr>\n",
       "      <th>built_in_wardrobe</th>\n",
       "      <td>0</td>\n",
       "      <td>0</td>\n",
       "      <td>0</td>\n",
       "      <td>1</td>\n",
       "      <td>0</td>\n",
       "    </tr>\n",
       "    <tr>\n",
       "      <th>chimney</th>\n",
       "      <td>0</td>\n",
       "      <td>0</td>\n",
       "      <td>0</td>\n",
       "      <td>1</td>\n",
       "      <td>0</td>\n",
       "    </tr>\n",
       "    <tr>\n",
       "      <th>condition</th>\n",
       "      <td>segunda mano/buen estado</td>\n",
       "      <td>segunda mano/buen estado</td>\n",
       "      <td>segunda mano/buen estado</td>\n",
       "      <td>segunda mano/buen estado</td>\n",
       "      <td>segunda mano/buen estado</td>\n",
       "    </tr>\n",
       "    <tr>\n",
       "      <th>construct_date</th>\n",
       "      <td>NaN</td>\n",
       "      <td>2006.0</td>\n",
       "      <td>NaN</td>\n",
       "      <td>NaN</td>\n",
       "      <td>NaN</td>\n",
       "    </tr>\n",
       "    <tr>\n",
       "      <th>energetic_certif</th>\n",
       "      <td>NaN</td>\n",
       "      <td>no indicado</td>\n",
       "      <td>no indicado</td>\n",
       "      <td>en trámite</td>\n",
       "      <td>no indicado</td>\n",
       "    </tr>\n",
       "    <tr>\n",
       "      <th>floor</th>\n",
       "      <td>2 plantas</td>\n",
       "      <td>planta 2ª exterior</td>\n",
       "      <td>3 plantas</td>\n",
       "      <td>3 plantas</td>\n",
       "      <td>planta 1ª exterior</td>\n",
       "    </tr>\n",
       "    <tr>\n",
       "      <th>garage</th>\n",
       "      <td>plaza de garaje incluida en el precio</td>\n",
       "      <td>NaN</td>\n",
       "      <td>plaza de garaje incluida en el precio</td>\n",
       "      <td>NaN</td>\n",
       "      <td>plaza de garaje incluida en el precio</td>\n",
       "    </tr>\n",
       "    <tr>\n",
       "      <th>garden</th>\n",
       "      <td>1</td>\n",
       "      <td>0</td>\n",
       "      <td>1</td>\n",
       "      <td>1</td>\n",
       "      <td>1</td>\n",
       "    </tr>\n",
       "    <tr>\n",
       "      <th>ground_size</th>\n",
       "      <td>NaN</td>\n",
       "      <td>NaN</td>\n",
       "      <td>NaN</td>\n",
       "      <td>NaN</td>\n",
       "      <td>NaN</td>\n",
       "    </tr>\n",
       "    <tr>\n",
       "      <th>heating</th>\n",
       "      <td>NaN</td>\n",
       "      <td>NaN</td>\n",
       "      <td>NaN</td>\n",
       "      <td>NaN</td>\n",
       "      <td>NaN</td>\n",
       "    </tr>\n",
       "    <tr>\n",
       "      <th>house_id</th>\n",
       "      <td>81717634</td>\n",
       "      <td>29588074</td>\n",
       "      <td>37453116</td>\n",
       "      <td>82568918</td>\n",
       "      <td>29135242</td>\n",
       "    </tr>\n",
       "    <tr>\n",
       "      <th>house_type</th>\n",
       "      <td>Casa o chalet independiente</td>\n",
       "      <td>Ático</td>\n",
       "      <td>Casa de pueblo</td>\n",
       "      <td>Casa de pueblo</td>\n",
       "      <td>Piso</td>\n",
       "    </tr>\n",
       "    <tr>\n",
       "      <th>kitchen</th>\n",
       "      <td>NaN</td>\n",
       "      <td>NaN</td>\n",
       "      <td>NaN</td>\n",
       "      <td>NaN</td>\n",
       "      <td>NaN</td>\n",
       "    </tr>\n",
       "    <tr>\n",
       "      <th>lift</th>\n",
       "      <td>NaN</td>\n",
       "      <td>1.0</td>\n",
       "      <td>NaN</td>\n",
       "      <td>NaN</td>\n",
       "      <td>1.0</td>\n",
       "    </tr>\n",
       "    <tr>\n",
       "      <th>loc_city</th>\n",
       "      <td>Urcabustaiz</td>\n",
       "      <td>Legutiano</td>\n",
       "      <td>Aramaio</td>\n",
       "      <td>Urcabustaiz</td>\n",
       "      <td>Urcabustaiz</td>\n",
       "    </tr>\n",
       "    <tr>\n",
       "      <th>loc_district</th>\n",
       "      <td>La iglesia</td>\n",
       "      <td>la Union Plazatxoa, 8</td>\n",
       "      <td>Calle Etxaguen s/n</td>\n",
       "      <td>CP 01449, 1449 CP</td>\n",
       "      <td>Calle Nueva Plaza, 9</td>\n",
       "    </tr>\n",
       "    <tr>\n",
       "      <th>loc_full</th>\n",
       "      <td>La iglesia , Urcabustaiz , Zuya, Álava</td>\n",
       "      <td>la Union Plazatxoa, 8 , Legutiano , Zuya, Álava</td>\n",
       "      <td>Calle Etxaguen s/n , Aramaio , Zuya, Álava</td>\n",
       "      <td>CP 01449, 1449 CP , Urcabustaiz , Zuya, Álava</td>\n",
       "      <td>Calle Nueva Plaza, 9 , Urcabustaiz , Zuya, Ál...</td>\n",
       "    </tr>\n",
       "    <tr>\n",
       "      <th>loc_neigh</th>\n",
       "      <td>NaN</td>\n",
       "      <td>NaN</td>\n",
       "      <td>NaN</td>\n",
       "      <td>NaN</td>\n",
       "      <td>NaN</td>\n",
       "    </tr>\n",
       "    <tr>\n",
       "      <th>loc_street</th>\n",
       "      <td>NaN</td>\n",
       "      <td>NaN</td>\n",
       "      <td>NaN</td>\n",
       "      <td>NaN</td>\n",
       "      <td>NaN</td>\n",
       "    </tr>\n",
       "    <tr>\n",
       "      <th>loc_zone</th>\n",
       "      <td>Zuya, Álava</td>\n",
       "      <td>Zuya, Álava</td>\n",
       "      <td>Zuya, Álava</td>\n",
       "      <td>Zuya, Álava</td>\n",
       "      <td>Zuya, Álava</td>\n",
       "    </tr>\n",
       "    <tr>\n",
       "      <th>m2_real</th>\n",
       "      <td>1000</td>\n",
       "      <td>86</td>\n",
       "      <td>3000</td>\n",
       "      <td>86</td>\n",
       "      <td>76</td>\n",
       "    </tr>\n",
       "    <tr>\n",
       "      <th>m2_useful</th>\n",
       "      <td>172.0</td>\n",
       "      <td>NaN</td>\n",
       "      <td>NaN</td>\n",
       "      <td>NaN</td>\n",
       "      <td>74.0</td>\n",
       "    </tr>\n",
       "    <tr>\n",
       "      <th>obtention_date</th>\n",
       "      <td>2019-03-29</td>\n",
       "      <td>2019-03-29</td>\n",
       "      <td>2019-03-29</td>\n",
       "      <td>2019-03-29</td>\n",
       "      <td>2019-03-29</td>\n",
       "    </tr>\n",
       "    <tr>\n",
       "      <th>orientation</th>\n",
       "      <td>norte, sur, este, oeste</td>\n",
       "      <td>NaN</td>\n",
       "      <td>NaN</td>\n",
       "      <td>NaN</td>\n",
       "      <td>sur, oeste</td>\n",
       "    </tr>\n",
       "    <tr>\n",
       "      <th>price</th>\n",
       "      <td>310000</td>\n",
       "      <td>139000</td>\n",
       "      <td>480000</td>\n",
       "      <td>150000</td>\n",
       "      <td>90000</td>\n",
       "    </tr>\n",
       "    <tr>\n",
       "      <th>reduced_mobility</th>\n",
       "      <td>0</td>\n",
       "      <td>1</td>\n",
       "      <td>0</td>\n",
       "      <td>0</td>\n",
       "      <td>0</td>\n",
       "    </tr>\n",
       "    <tr>\n",
       "      <th>room_num</th>\n",
       "      <td>4</td>\n",
       "      <td>3</td>\n",
       "      <td>4</td>\n",
       "      <td>4</td>\n",
       "      <td>2</td>\n",
       "    </tr>\n",
       "    <tr>\n",
       "      <th>storage_room</th>\n",
       "      <td>0</td>\n",
       "      <td>1</td>\n",
       "      <td>1</td>\n",
       "      <td>1</td>\n",
       "      <td>1</td>\n",
       "    </tr>\n",
       "    <tr>\n",
       "      <th>swimming_pool</th>\n",
       "      <td>0</td>\n",
       "      <td>0</td>\n",
       "      <td>0</td>\n",
       "      <td>0</td>\n",
       "      <td>1</td>\n",
       "    </tr>\n",
       "    <tr>\n",
       "      <th>terrace</th>\n",
       "      <td>1</td>\n",
       "      <td>0</td>\n",
       "      <td>1</td>\n",
       "      <td>1</td>\n",
       "      <td>1</td>\n",
       "    </tr>\n",
       "    <tr>\n",
       "      <th>unfurnished</th>\n",
       "      <td>NaN</td>\n",
       "      <td>NaN</td>\n",
       "      <td>NaN</td>\n",
       "      <td>NaN</td>\n",
       "      <td>NaN</td>\n",
       "    </tr>\n",
       "    <tr>\n",
       "      <th>number_of_companies_prov</th>\n",
       "      <td>19147</td>\n",
       "      <td>19147</td>\n",
       "      <td>19147</td>\n",
       "      <td>19147</td>\n",
       "      <td>19147</td>\n",
       "    </tr>\n",
       "    <tr>\n",
       "      <th>population_prov</th>\n",
       "      <td>328868</td>\n",
       "      <td>328868</td>\n",
       "      <td>328868</td>\n",
       "      <td>328868</td>\n",
       "      <td>328868</td>\n",
       "    </tr>\n",
       "    <tr>\n",
       "      <th>companies_prov_vs_national_%</th>\n",
       "      <td>0.57</td>\n",
       "      <td>0.57</td>\n",
       "      <td>0.57</td>\n",
       "      <td>0.57</td>\n",
       "      <td>0.57</td>\n",
       "    </tr>\n",
       "    <tr>\n",
       "      <th>population_prov_vs_national_%</th>\n",
       "      <td>0.7</td>\n",
       "      <td>0.7</td>\n",
       "      <td>0.7</td>\n",
       "      <td>0.7</td>\n",
       "      <td>0.7</td>\n",
       "    </tr>\n",
       "    <tr>\n",
       "      <th>renta_media_prov</th>\n",
       "      <td>19889.0</td>\n",
       "      <td>19889.0</td>\n",
       "      <td>19889.0</td>\n",
       "      <td>19889.0</td>\n",
       "      <td>19889.0</td>\n",
       "    </tr>\n",
       "  </tbody>\n",
       "</table>\n",
       "</div>"
      ],
      "text/plain": [
       "                                                                               0  \\\n",
       "ad_description                 Precio chalet individual en la localidad de Ab...   \n",
       "ad_last_update                                Anuncio actualizado el 27 de marzo   \n",
       "air_conditioner                                                                0   \n",
       "balcony                                                                        0   \n",
       "bath_num                                                                       2   \n",
       "built_in_wardrobe                                                              0   \n",
       "chimney                                                                        0   \n",
       "condition                                               segunda mano/buen estado   \n",
       "construct_date                                                               NaN   \n",
       "energetic_certif                                                             NaN   \n",
       "floor                                                                  2 plantas   \n",
       "garage                                     plaza de garaje incluida en el precio   \n",
       "garden                                                                         1   \n",
       "ground_size                                                                  NaN   \n",
       "heating                                                                      NaN   \n",
       "house_id                                                                81717634   \n",
       "house_type                                           Casa o chalet independiente   \n",
       "kitchen                                                                      NaN   \n",
       "lift                                                                         NaN   \n",
       "loc_city                                                             Urcabustaiz   \n",
       "loc_district                                                          La iglesia   \n",
       "loc_full                                 La iglesia , Urcabustaiz , Zuya, Álava    \n",
       "loc_neigh                                                                    NaN   \n",
       "loc_street                                                                   NaN   \n",
       "loc_zone                                                             Zuya, Álava   \n",
       "m2_real                                                                     1000   \n",
       "m2_useful                                                                  172.0   \n",
       "obtention_date                                                        2019-03-29   \n",
       "orientation                                              norte, sur, este, oeste   \n",
       "price                                                                     310000   \n",
       "reduced_mobility                                                               0   \n",
       "room_num                                                                       4   \n",
       "storage_room                                                                   0   \n",
       "swimming_pool                                                                  0   \n",
       "terrace                                                                        1   \n",
       "unfurnished                                                                  NaN   \n",
       "number_of_companies_prov                                                   19147   \n",
       "population_prov                                                           328868   \n",
       "companies_prov_vs_national_%                                                0.57   \n",
       "population_prov_vs_national_%                                                0.7   \n",
       "renta_media_prov                                                         19889.0   \n",
       "\n",
       "                                                                               1  \\\n",
       "ad_description                 Atico de 80m2, para entrar a vivir, con salón ...   \n",
       "ad_last_update                                     más de 5 meses sin actualizar   \n",
       "air_conditioner                                                                0   \n",
       "balcony                                                                        0   \n",
       "bath_num                                                                       2   \n",
       "built_in_wardrobe                                                              0   \n",
       "chimney                                                                        0   \n",
       "condition                                               segunda mano/buen estado   \n",
       "construct_date                                                            2006.0   \n",
       "energetic_certif                                                     no indicado   \n",
       "floor                                                         planta 2ª exterior   \n",
       "garage                                                                       NaN   \n",
       "garden                                                                         0   \n",
       "ground_size                                                                  NaN   \n",
       "heating                                                                      NaN   \n",
       "house_id                                                                29588074   \n",
       "house_type                                                                 Ático   \n",
       "kitchen                                                                      NaN   \n",
       "lift                                                                         1.0   \n",
       "loc_city                                                               Legutiano   \n",
       "loc_district                                               la Union Plazatxoa, 8   \n",
       "loc_full                        la Union Plazatxoa, 8 , Legutiano , Zuya, Álava    \n",
       "loc_neigh                                                                    NaN   \n",
       "loc_street                                                                   NaN   \n",
       "loc_zone                                                             Zuya, Álava   \n",
       "m2_real                                                                       86   \n",
       "m2_useful                                                                    NaN   \n",
       "obtention_date                                                        2019-03-29   \n",
       "orientation                                                                  NaN   \n",
       "price                                                                     139000   \n",
       "reduced_mobility                                                               1   \n",
       "room_num                                                                       3   \n",
       "storage_room                                                                   1   \n",
       "swimming_pool                                                                  0   \n",
       "terrace                                                                        0   \n",
       "unfurnished                                                                  NaN   \n",
       "number_of_companies_prov                                                   19147   \n",
       "population_prov                                                           328868   \n",
       "companies_prov_vs_national_%                                                0.57   \n",
       "population_prov_vs_national_%                                                0.7   \n",
       "renta_media_prov                                                         19889.0   \n",
       "\n",
       "                                                                               2  \\\n",
       "ad_description                 B/ Etxaguen. Casa de reciente construcción con...   \n",
       "ad_last_update                                     más de 5 meses sin actualizar   \n",
       "air_conditioner                                                                0   \n",
       "balcony                                                                        0   \n",
       "bath_num                                                                       3   \n",
       "built_in_wardrobe                                                              0   \n",
       "chimney                                                                        0   \n",
       "condition                                               segunda mano/buen estado   \n",
       "construct_date                                                               NaN   \n",
       "energetic_certif                                                     no indicado   \n",
       "floor                                                                  3 plantas   \n",
       "garage                                     plaza de garaje incluida en el precio   \n",
       "garden                                                                         1   \n",
       "ground_size                                                                  NaN   \n",
       "heating                                                                      NaN   \n",
       "house_id                                                                37453116   \n",
       "house_type                                                        Casa de pueblo   \n",
       "kitchen                                                                      NaN   \n",
       "lift                                                                         NaN   \n",
       "loc_city                                                                 Aramaio   \n",
       "loc_district                                                  Calle Etxaguen s/n   \n",
       "loc_full                             Calle Etxaguen s/n , Aramaio , Zuya, Álava    \n",
       "loc_neigh                                                                    NaN   \n",
       "loc_street                                                                   NaN   \n",
       "loc_zone                                                             Zuya, Álava   \n",
       "m2_real                                                                     3000   \n",
       "m2_useful                                                                    NaN   \n",
       "obtention_date                                                        2019-03-29   \n",
       "orientation                                                                  NaN   \n",
       "price                                                                     480000   \n",
       "reduced_mobility                                                               0   \n",
       "room_num                                                                       4   \n",
       "storage_room                                                                   1   \n",
       "swimming_pool                                                                  0   \n",
       "terrace                                                                        1   \n",
       "unfurnished                                                                  NaN   \n",
       "number_of_companies_prov                                                   19147   \n",
       "population_prov                                                           328868   \n",
       "companies_prov_vs_national_%                                                0.57   \n",
       "population_prov_vs_national_%                                                0.7   \n",
       "renta_media_prov                                                         19889.0   \n",
       "\n",
       "                                                                               3  \\\n",
       "ad_description                 Se vende vivienda en abornikano (ayuntamiento ...   \n",
       "ad_last_update                                     más de 5 meses sin actualizar   \n",
       "air_conditioner                                                                0   \n",
       "balcony                                                                        1   \n",
       "bath_num                                                                       1   \n",
       "built_in_wardrobe                                                              1   \n",
       "chimney                                                                        1   \n",
       "condition                                               segunda mano/buen estado   \n",
       "construct_date                                                               NaN   \n",
       "energetic_certif                                                      en trámite   \n",
       "floor                                                                  3 plantas   \n",
       "garage                                                                       NaN   \n",
       "garden                                                                         1   \n",
       "ground_size                                                                  NaN   \n",
       "heating                                                                      NaN   \n",
       "house_id                                                                82568918   \n",
       "house_type                                                        Casa de pueblo   \n",
       "kitchen                                                                      NaN   \n",
       "lift                                                                         NaN   \n",
       "loc_city                                                             Urcabustaiz   \n",
       "loc_district                                                   CP 01449, 1449 CP   \n",
       "loc_full                          CP 01449, 1449 CP , Urcabustaiz , Zuya, Álava    \n",
       "loc_neigh                                                                    NaN   \n",
       "loc_street                                                                   NaN   \n",
       "loc_zone                                                             Zuya, Álava   \n",
       "m2_real                                                                       86   \n",
       "m2_useful                                                                    NaN   \n",
       "obtention_date                                                        2019-03-29   \n",
       "orientation                                                                  NaN   \n",
       "price                                                                     150000   \n",
       "reduced_mobility                                                               0   \n",
       "room_num                                                                       4   \n",
       "storage_room                                                                   1   \n",
       "swimming_pool                                                                  0   \n",
       "terrace                                                                        1   \n",
       "unfurnished                                                                  NaN   \n",
       "number_of_companies_prov                                                   19147   \n",
       "population_prov                                                           328868   \n",
       "companies_prov_vs_national_%                                                0.57   \n",
       "population_prov_vs_national_%                                                0.7   \n",
       "renta_media_prov                                                         19889.0   \n",
       "\n",
       "                                                                               4  \n",
       "ad_description                                                      Negociables.  \n",
       "ad_last_update                                     más de 5 meses sin actualizar  \n",
       "air_conditioner                                                                0  \n",
       "balcony                                                                        0  \n",
       "bath_num                                                                       1  \n",
       "built_in_wardrobe                                                              0  \n",
       "chimney                                                                        0  \n",
       "condition                                               segunda mano/buen estado  \n",
       "construct_date                                                               NaN  \n",
       "energetic_certif                                                     no indicado  \n",
       "floor                                                         planta 1ª exterior  \n",
       "garage                                     plaza de garaje incluida en el precio  \n",
       "garden                                                                         1  \n",
       "ground_size                                                                  NaN  \n",
       "heating                                                                      NaN  \n",
       "house_id                                                                29135242  \n",
       "house_type                                                                  Piso  \n",
       "kitchen                                                                      NaN  \n",
       "lift                                                                         1.0  \n",
       "loc_city                                                             Urcabustaiz  \n",
       "loc_district                                                Calle Nueva Plaza, 9  \n",
       "loc_full                        Calle Nueva Plaza, 9 , Urcabustaiz , Zuya, Ál...  \n",
       "loc_neigh                                                                    NaN  \n",
       "loc_street                                                                   NaN  \n",
       "loc_zone                                                             Zuya, Álava  \n",
       "m2_real                                                                       76  \n",
       "m2_useful                                                                   74.0  \n",
       "obtention_date                                                        2019-03-29  \n",
       "orientation                                                           sur, oeste  \n",
       "price                                                                      90000  \n",
       "reduced_mobility                                                               0  \n",
       "room_num                                                                       2  \n",
       "storage_room                                                                   1  \n",
       "swimming_pool                                                                  1  \n",
       "terrace                                                                        1  \n",
       "unfurnished                                                                  NaN  \n",
       "number_of_companies_prov                                                   19147  \n",
       "population_prov                                                           328868  \n",
       "companies_prov_vs_national_%                                                0.57  \n",
       "population_prov_vs_national_%                                                0.7  \n",
       "renta_media_prov                                                         19889.0  "
      ]
     },
     "execution_count": 5,
     "metadata": {},
     "output_type": "execute_result"
    }
   ],
   "source": [
    "raw_data.head().T"
   ]
  },
  {
   "cell_type": "code",
   "execution_count": 6,
   "metadata": {},
   "outputs": [
    {
     "name": "stdout",
     "output_type": "stream",
     "text": [
      "<class 'pandas.core.frame.DataFrame'>\n",
      "RangeIndex: 100000 entries, 0 to 99999\n",
      "Data columns (total 41 columns):\n",
      " #   Column                         Non-Null Count   Dtype  \n",
      "---  ------                         --------------   -----  \n",
      " 0   ad_description                 95426 non-null   object \n",
      " 1   ad_last_update                 100000 non-null  object \n",
      " 2   air_conditioner                100000 non-null  object \n",
      " 3   balcony                        100000 non-null  object \n",
      " 4   bath_num                       100000 non-null  object \n",
      " 5   built_in_wardrobe              100000 non-null  object \n",
      " 6   chimney                        100000 non-null  object \n",
      " 7   condition                      86059 non-null   object \n",
      " 8   construct_date                 32059 non-null   object \n",
      " 9   energetic_certif               74691 non-null   object \n",
      " 10  floor                          79693 non-null   object \n",
      " 11  garage                         40811 non-null   object \n",
      " 12  garden                         100000 non-null  object \n",
      " 13  ground_size                    183 non-null     object \n",
      " 14  heating                        25714 non-null   object \n",
      " 15  house_id                       100000 non-null  object \n",
      " 16  house_type                     100000 non-null  object \n",
      " 17  kitchen                        2212 non-null    object \n",
      " 18  lift                           58965 non-null   object \n",
      " 19  loc_city                       100000 non-null  object \n",
      " 20  loc_district                   86253 non-null   object \n",
      " 21  loc_full                       100000 non-null  object \n",
      " 22  loc_neigh                      43690 non-null   object \n",
      " 23  loc_street                     14314 non-null   object \n",
      " 24  loc_zone                       100000 non-null  object \n",
      " 25  m2_real                        100000 non-null  object \n",
      " 26  m2_useful                      52844 non-null   object \n",
      " 27  obtention_date                 100000 non-null  object \n",
      " 28  orientation                    39415 non-null   object \n",
      " 29  price                          100000 non-null  object \n",
      " 30  reduced_mobility               100000 non-null  object \n",
      " 31  room_num                       100000 non-null  object \n",
      " 32  storage_room                   100000 non-null  object \n",
      " 33  swimming_pool                  100000 non-null  object \n",
      " 34  terrace                        100000 non-null  object \n",
      " 35  unfurnished                    646 non-null     object \n",
      " 36  number_of_companies_prov       100000 non-null  int64  \n",
      " 37  population_prov                100000 non-null  int64  \n",
      " 38  companies_prov_vs_national_%   100000 non-null  float64\n",
      " 39  population_prov_vs_national_%  100000 non-null  float64\n",
      " 40  renta_media_prov               59280 non-null   float64\n",
      "dtypes: float64(3), int64(2), object(36)\n",
      "memory usage: 31.3+ MB\n"
     ]
    }
   ],
   "source": [
    "raw_data.info()"
   ]
  },
  {
   "cell_type": "markdown",
   "metadata": {},
   "source": [
    "The dataset consists of **100,000 entries** and **41 columns**. The data types include `object`, `float64`, and `int64`. Several columns contain missing values. The dataset occupies **31.3 MB** in memory, making it manageable for analysis. This initial exploration highlights the need for data cleaning, especially in columns with a high proportion of missing values."
   ]
  },
  {
   "cell_type": "markdown",
   "metadata": {},
   "source": [
    "## Data Transformation"
   ]
  },
  {
   "cell_type": "markdown",
   "metadata": {},
   "source": [
    "### Data Filtering\n",
    "Remove the variables that will not be used in this analysis."
   ]
  },
  {
   "cell_type": "code",
   "execution_count": 7,
   "metadata": {},
   "outputs": [],
   "source": [
    "raw_data.drop(columns=['ad_description', \n",
    "                       'ad_last_update', \n",
    "                       'house_id', \n",
    "                       'obtention_date', \n",
    "                       'unfurnished',\n",
    "                       'number_of_companies_prov', \n",
    "                       'population_prov', \n",
    "                       'companies_prov_vs_national_%', \n",
    "                       'population_prov_vs_national_%',\n",
    "                       'renta_media_prov',\n",
    "                       'energetic_certif',\n",
    "                       'loc_district',\n",
    "                       'floor',\n",
    "                       'reduced_mobility',\n",
    "                       'balcony',\n",
    "                       'built_in_wardrobe'], inplace=True)"
   ]
  },
  {
   "cell_type": "markdown",
   "metadata": {},
   "source": [
    "### Data Deduplication\n",
    "Detect and remove duplicate rows."
   ]
  },
  {
   "cell_type": "code",
   "execution_count": 8,
   "metadata": {},
   "outputs": [
    {
     "name": "stdout",
     "output_type": "stream",
     "text": [
      "The dataset has 6071 duplicate rows\n"
     ]
    }
   ],
   "source": [
    "duplicated_rows = raw_data[raw_data.duplicated(keep='first')]\n",
    "print(f'The dataset has {duplicated_rows.shape[0]} duplicate rows')"
   ]
  },
  {
   "cell_type": "code",
   "execution_count": 9,
   "metadata": {},
   "outputs": [
    {
     "name": "stdout",
     "output_type": "stream",
     "text": [
      "Empty DataFrame\n",
      "Columns: [air_conditioner, bath_num, chimney, condition, construct_date, garage, garden, ground_size, heating, house_type, kitchen, lift, loc_city, loc_full, loc_neigh, loc_street, loc_zone, m2_real, m2_useful, orientation, price, room_num, storage_room, swimming_pool, terrace]\n",
      "Index: []\n"
     ]
    }
   ],
   "source": [
    "#Remove duplicate rows while keeping the first occurrence\n",
    "raw_data.drop_duplicates(inplace=True)\n",
    "\n",
    "#Verifying\n",
    "verify_duplicated = raw_data[raw_data.duplicated(keep=False)]\n",
    "print(verify_duplicated)"
   ]
  },
  {
   "cell_type": "markdown",
   "metadata": {},
   "source": [
    "### Handling Missing Data"
   ]
  },
  {
   "cell_type": "code",
   "execution_count": 10,
   "metadata": {},
   "outputs": [
    {
     "name": "stdout",
     "output_type": "stream",
     "text": [
      "ground_size       93928\n",
      "kitchen           91902\n",
      "loc_street        80147\n",
      "heating           69857\n",
      "construct_date    63150\n",
      "orientation       56789\n",
      "garage            56130\n",
      "loc_neigh         52086\n",
      "m2_useful         44501\n",
      "lift              38965\n",
      "condition         13295\n",
      "dtype: int64\n"
     ]
    }
   ],
   "source": [
    "# Missing data sorted.\n",
    "missing_values = raw_data.isnull().sum().sort_values(ascending=False)\n",
    "print(missing_values[missing_values > 0])"
   ]
  },
  {
   "cell_type": "markdown",
   "metadata": {},
   "source": [
    "Many variables in the dataset contain a significant amount of missing data. Upon closer investigation, it is possible that these are **structural missing values** in categorical variables and should be replaced with 0. This adjustment will be further analyzed in the following sections.\n",
    "\n",
    "Other variables with a large amount of missing data **(more than 60%)** that should have values in all records will be removed from the dataset."
   ]
  },
  {
   "cell_type": "code",
   "execution_count": 11,
   "metadata": {},
   "outputs": [],
   "source": [
    "raw_data.drop(columns=['ground_size', \n",
    "                       'kitchen', \n",
    "                       'loc_street', \n",
    "                       'heating',\n",
    "                       'construct_date',\n",
    "                       'orientation',\n",
    "                       'loc_neigh',\n",
    "                       'm2_useful',\n",
    "                       'lift'], inplace=True)"
   ]
  },
  {
   "cell_type": "markdown",
   "metadata": {},
   "source": [
    "### Individual Variable Analysis for Data Cleaning"
   ]
  },
  {
   "cell_type": "markdown",
   "metadata": {},
   "source": [
    "#### condition"
   ]
  },
  {
   "cell_type": "code",
   "execution_count": 12,
   "metadata": {},
   "outputs": [
    {
     "data": {
      "text/plain": [
       "condition\n",
       "segunda mano/buen estado      67899\n",
       "segunda mano/para reformar    10457\n",
       "promoción de obra nueva        2277\n",
       "condition                         1\n",
       "Name: count, dtype: int64"
      ]
     },
     "execution_count": 12,
     "metadata": {},
     "output_type": "execute_result"
    }
   ],
   "source": [
    "raw_data['condition'].value_counts()"
   ]
  },
  {
   "cell_type": "code",
   "execution_count": 13,
   "metadata": {},
   "outputs": [
    {
     "data": {
      "text/html": [
       "<div>\n",
       "<style scoped>\n",
       "    .dataframe tbody tr th:only-of-type {\n",
       "        vertical-align: middle;\n",
       "    }\n",
       "\n",
       "    .dataframe tbody tr th {\n",
       "        vertical-align: top;\n",
       "    }\n",
       "\n",
       "    .dataframe thead th {\n",
       "        text-align: right;\n",
       "    }\n",
       "</style>\n",
       "<table border=\"1\" class=\"dataframe\">\n",
       "  <thead>\n",
       "    <tr style=\"text-align: right;\">\n",
       "      <th></th>\n",
       "      <th>air_conditioner</th>\n",
       "      <th>bath_num</th>\n",
       "      <th>chimney</th>\n",
       "      <th>condition</th>\n",
       "      <th>garage</th>\n",
       "      <th>garden</th>\n",
       "      <th>house_type</th>\n",
       "      <th>loc_city</th>\n",
       "      <th>loc_full</th>\n",
       "      <th>loc_zone</th>\n",
       "      <th>m2_real</th>\n",
       "      <th>price</th>\n",
       "      <th>room_num</th>\n",
       "      <th>storage_room</th>\n",
       "      <th>swimming_pool</th>\n",
       "      <th>terrace</th>\n",
       "    </tr>\n",
       "  </thead>\n",
       "  <tbody>\n",
       "    <tr>\n",
       "      <th>4248</th>\n",
       "      <td>air_conditioner</td>\n",
       "      <td>bath_num</td>\n",
       "      <td>chimney</td>\n",
       "      <td>condition</td>\n",
       "      <td>garage</td>\n",
       "      <td>garden</td>\n",
       "      <td>house_type</td>\n",
       "      <td>loc_city</td>\n",
       "      <td>loc_full</td>\n",
       "      <td>loc_zone</td>\n",
       "      <td>m2_real</td>\n",
       "      <td>price</td>\n",
       "      <td>room_num</td>\n",
       "      <td>storage_room</td>\n",
       "      <td>swimming_pool</td>\n",
       "      <td>terrace</td>\n",
       "    </tr>\n",
       "  </tbody>\n",
       "</table>\n",
       "</div>"
      ],
      "text/plain": [
       "      air_conditioner  bath_num  chimney  condition  garage  garden  \\\n",
       "4248  air_conditioner  bath_num  chimney  condition  garage  garden   \n",
       "\n",
       "      house_type  loc_city  loc_full  loc_zone  m2_real  price  room_num  \\\n",
       "4248  house_type  loc_city  loc_full  loc_zone  m2_real  price  room_num   \n",
       "\n",
       "      storage_room  swimming_pool  terrace  \n",
       "4248  storage_room  swimming_pool  terrace  "
      ]
     },
     "execution_count": 13,
     "metadata": {},
     "output_type": "execute_result"
    }
   ],
   "source": [
    "raw_data[raw_data['condition'] == 'condition']"
   ]
  },
  {
   "cell_type": "markdown",
   "metadata": {},
   "source": [
    "A value equal to the header was detected, likely due to a row left over after removing duplicates. This row probably originates from instances where column names were repeated at regular intervals in the dataframe. It will be removed."
   ]
  },
  {
   "cell_type": "code",
   "execution_count": 14,
   "metadata": {},
   "outputs": [],
   "source": [
    "raw_data.drop(raw_data[raw_data['condition'] == 'condition'].index, inplace=True)"
   ]
  },
  {
   "cell_type": "markdown",
   "metadata": {},
   "source": [
    "With 13,319 missing records in this variable, we deduce that the data were not recorded because they were irrelevant to buyers. This suggests that the properties are neither newly constructed nor in need of renovation, so it can be inferred that they are second-hand homes. The values will be renamed according to the terminology used in the U.S. real estate market."
   ]
  },
  {
   "cell_type": "code",
   "execution_count": 15,
   "metadata": {},
   "outputs": [],
   "source": [
    "raw_data['condition'] = raw_data['condition'].fillna('Resale')\n",
    "raw_data['condition'] = raw_data['condition'].replace({\n",
    "    'segunda mano/buen estado': 'Resale', \n",
    "    'segunda mano/para reformar': 'Fixer-upper', \n",
    "    'promoción de obra nueva':'New'\n",
    "    })"
   ]
  },
  {
   "cell_type": "code",
   "execution_count": 16,
   "metadata": {},
   "outputs": [
    {
     "data": {
      "text/plain": [
       "array(['Resale', 'Fixer-upper', 'New'], dtype=object)"
      ]
     },
     "execution_count": 16,
     "metadata": {},
     "output_type": "execute_result"
    }
   ],
   "source": [
    "# Verifying\n",
    "raw_data['condition'].unique()"
   ]
  },
  {
   "cell_type": "markdown",
   "metadata": {},
   "source": [
    "#### garage"
   ]
  },
  {
   "cell_type": "code",
   "execution_count": 22,
   "metadata": {},
   "outputs": [
    {
     "data": {
      "text/plain": [
       "array(['plaza de garaje incluida en el precio', nan,\n",
       "       'plaza de garaje por 15.000 eur adicionales',\n",
       "       'plaza de garaje por 12.500 eur adicionales',\n",
       "       'plaza de garaje por 23.000 eur adicionales'], dtype=object)"
      ]
     },
     "execution_count": 22,
     "metadata": {},
     "output_type": "execute_result"
    }
   ],
   "source": [
    "unique_garage = raw_data['garage'].unique()\n",
    "unique_garage[:5]"
   ]
  },
  {
   "cell_type": "markdown",
   "metadata": {},
   "source": [
    "The variable contains 3 types of values:\n",
    "- 'NaN'\n",
    "- 'plaza de garaje incluida en el precio'\n",
    "- 'plaza de garaje por \"x\" eur adicionales'\n",
    "\n",
    "The variable values are changed to:\n",
    "- NaN to `Not Included`.\n",
    "- 'plaza de garaje incluida en el precio' to `Included`.\n",
    "- All occurrences of 'plaza de garaje por...' to `Separate Purchase`."
   ]
  },
  {
   "cell_type": "code",
   "execution_count": 23,
   "metadata": {},
   "outputs": [],
   "source": [
    "raw_data['garage'] = raw_data['garage'].fillna('Not Included')\n",
    "raw_data['garage'] = raw_data['garage'].replace('plaza de garaje incluida en el precio', 'Included')\n",
    "raw_data['garage'] = raw_data['garage'].replace(to_replace = r'^plaza de garaje por.*', value='Separate Purchase', regex=True)"
   ]
  },
  {
   "cell_type": "code",
   "execution_count": 24,
   "metadata": {},
   "outputs": [
    {
     "data": {
      "text/plain": [
       "array(['Included', 'Not Included', 'Separate Purchase'], dtype=object)"
      ]
     },
     "execution_count": 24,
     "metadata": {},
     "output_type": "execute_result"
    }
   ],
   "source": [
    "# Verifiying ..\n",
    "raw_data['garage'].unique()"
   ]
  },
  {
   "cell_type": "markdown",
   "metadata": {},
   "source": [
    "#### Verify the missing values"
   ]
  },
  {
   "cell_type": "code",
   "execution_count": 25,
   "metadata": {},
   "outputs": [
    {
     "name": "stdout",
     "output_type": "stream",
     "text": [
      "air_conditioner    0\n",
      "bath_num           0\n",
      "chimney            0\n",
      "condition          0\n",
      "garage             0\n",
      "garden             0\n",
      "house_type         0\n",
      "loc_city           0\n",
      "loc_full           0\n",
      "loc_zone           0\n",
      "m2_real            0\n",
      "price              0\n",
      "room_num           0\n",
      "storage_room       0\n",
      "swimming_pool      0\n",
      "terrace            0\n",
      "dtype: int64\n"
     ]
    }
   ],
   "source": [
    "missing_values = raw_data.isnull().sum().sort_values(ascending=False)\n",
    "print(missing_values)"
   ]
  },
  {
   "cell_type": "markdown",
   "metadata": {},
   "source": [
    "#### air_conditioner"
   ]
  },
  {
   "cell_type": "code",
   "execution_count": 17,
   "metadata": {},
   "outputs": [
    {
     "data": {
      "text/plain": [
       "air_conditioner\n",
       "0    71158\n",
       "1    22770\n",
       "Name: count, dtype: int64"
      ]
     },
     "execution_count": 17,
     "metadata": {},
     "output_type": "execute_result"
    }
   ],
   "source": [
    "raw_data['air_conditioner'].value_counts()"
   ]
  },
  {
   "cell_type": "markdown",
   "metadata": {},
   "source": [
    "#### swimming_pool"
   ]
  },
  {
   "cell_type": "code",
   "execution_count": 18,
   "metadata": {},
   "outputs": [
    {
     "data": {
      "text/plain": [
       "swimming_pool\n",
       "0    76108\n",
       "1    17820\n",
       "Name: count, dtype: int64"
      ]
     },
     "execution_count": 18,
     "metadata": {},
     "output_type": "execute_result"
    }
   ],
   "source": [
    "raw_data['swimming_pool'].value_counts()"
   ]
  },
  {
   "cell_type": "markdown",
   "metadata": {},
   "source": [
    "#### storage_room"
   ]
  },
  {
   "cell_type": "code",
   "execution_count": 19,
   "metadata": {},
   "outputs": [
    {
     "data": {
      "text/plain": [
       "storage_room\n",
       "0    55859\n",
       "1    38069\n",
       "Name: count, dtype: int64"
      ]
     },
     "execution_count": 19,
     "metadata": {},
     "output_type": "execute_result"
    }
   ],
   "source": [
    "raw_data['storage_room'].value_counts()"
   ]
  },
  {
   "cell_type": "markdown",
   "metadata": {},
   "source": [
    "#### garden"
   ]
  },
  {
   "cell_type": "code",
   "execution_count": 35,
   "metadata": {},
   "outputs": [
    {
     "data": {
      "text/plain": [
       "garden\n",
       "0    65545\n",
       "1    25784\n",
       "Name: count, dtype: int64"
      ]
     },
     "execution_count": 35,
     "metadata": {},
     "output_type": "execute_result"
    }
   ],
   "source": [
    "raw_data['garden'].value_counts()"
   ]
  },
  {
   "cell_type": "markdown",
   "metadata": {},
   "source": [
    "#### terrace"
   ]
  },
  {
   "cell_type": "code",
   "execution_count": 40,
   "metadata": {},
   "outputs": [
    {
     "data": {
      "text/plain": [
       "terrace\n",
       "0    47215\n",
       "1    44114\n",
       "Name: count, dtype: int64"
      ]
     },
     "execution_count": 40,
     "metadata": {},
     "output_type": "execute_result"
    }
   ],
   "source": [
    "raw_data['terrace'].value_counts()"
   ]
  },
  {
   "cell_type": "markdown",
   "metadata": {},
   "source": [
    "#### room_num"
   ]
  },
  {
   "cell_type": "code",
   "execution_count": 26,
   "metadata": {},
   "outputs": [
    {
     "data": {
      "text/plain": [
       "array(['4', '3', '2', '7', '5', '1', '8', '13', 'sin habitación', '6',\n",
       "       '9', '10', '15', '12', '30', '18', '35', '17', '14', '11', '16',\n",
       "       '36', '84', '20', '22', '65', '24', '23', '32', '25', '34', '26',\n",
       "       '56', '58', '73'], dtype=object)"
      ]
     },
     "execution_count": 26,
     "metadata": {},
     "output_type": "execute_result"
    }
   ],
   "source": [
    "raw_data['room_num'].unique()"
   ]
  },
  {
   "cell_type": "code",
   "execution_count": 27,
   "metadata": {},
   "outputs": [],
   "source": [
    "# Replace the value 'sin habitacion' with '0'\n",
    "raw_data['room_num'] = raw_data['room_num'].replace('sin habitación', '0')"
   ]
  },
  {
   "cell_type": "code",
   "execution_count": 28,
   "metadata": {},
   "outputs": [
    {
     "data": {
      "text/plain": [
       "dtype('int64')"
      ]
     },
     "execution_count": 28,
     "metadata": {},
     "output_type": "execute_result"
    }
   ],
   "source": [
    "# Convert the variable to the correct data type\n",
    "raw_data['room_num'] = pd.to_numeric(raw_data['room_num'])\n",
    "# Verifying\n",
    "raw_data['room_num'].dtype"
   ]
  },
  {
   "cell_type": "markdown",
   "metadata": {},
   "source": [
    "#### price"
   ]
  },
  {
   "cell_type": "code",
   "execution_count": 29,
   "metadata": {},
   "outputs": [
    {
     "data": {
      "text/plain": [
       "dtype('float64')"
      ]
     },
     "execution_count": 29,
     "metadata": {},
     "output_type": "execute_result"
    }
   ],
   "source": [
    "# Convert the variable to the correct data type\n",
    "raw_data['price'] = raw_data['price'].astype(float)\n",
    "raw_data['price'].dtype"
   ]
  },
  {
   "cell_type": "markdown",
   "metadata": {},
   "source": [
    "#### m2_real"
   ]
  },
  {
   "cell_type": "code",
   "execution_count": 30,
   "metadata": {},
   "outputs": [
    {
     "data": {
      "text/plain": [
       "dtype('int64')"
      ]
     },
     "execution_count": 30,
     "metadata": {},
     "output_type": "execute_result"
    }
   ],
   "source": [
    "# Convert the variable to the correct data type\n",
    "raw_data['m2_real'] = pd.to_numeric(raw_data['m2_real'])\n",
    "# verifying\n",
    "raw_data['m2_real'].dtype"
   ]
  },
  {
   "cell_type": "markdown",
   "metadata": {},
   "source": [
    "#### house_type"
   ]
  },
  {
   "cell_type": "code",
   "execution_count": 31,
   "metadata": {},
   "outputs": [
    {
     "data": {
      "text/plain": [
       "house_type\n",
       "Piso                                       50206\n",
       " Casa o chalet independiente               13032\n",
       " Casa o chalet                              6411\n",
       " Chalet adosado                             5937\n",
       "Ático                                       3261\n",
       " Casa de pueblo                             2977\n",
       "Dúplex                                      2384\n",
       " Chalet pareado                             2304\n",
       " Finca rústica                              2254\n",
       "Alquiler de Piso                            2232\n",
       " Casa rural                                  925\n",
       "Estudio                                      678\n",
       "Casa rural                                   571\n",
       " Caserón                                     147\n",
       "Alquiler de Ático                            101\n",
       " Masía                                       100\n",
       "Alquiler de Dúplex                            72\n",
       " Casa terrera                                 68\n",
       "Alquiler de Casa o chalet independiente       61\n",
       "Alquiler de Chalet adosado                    54\n",
       " Cortijo                                      30\n",
       "Alquiler de Estudio                           23\n",
       " Palacio                                      18\n",
       " Torre                                        18\n",
       "Alquiler de Casa o chalet                     16\n",
       "Alquiler de Chalet pareado                    15\n",
       "Alquiler de Casa de pueblo                    11\n",
       "Alquiler de Casa rural                         9\n",
       " Castillo                                      8\n",
       "Alquiler de Finca rústica                      4\n",
       "Alquiler de Caserón                            1\n",
       "Name: count, dtype: int64"
      ]
     },
     "execution_count": 31,
     "metadata": {},
     "output_type": "execute_result"
    }
   ],
   "source": [
    "raw_data['house_type'].value_counts()"
   ]
  },
  {
   "cell_type": "markdown",
   "metadata": {},
   "source": [
    "Remove records referring to rentals"
   ]
  },
  {
   "cell_type": "code",
   "execution_count": 32,
   "metadata": {},
   "outputs": [],
   "source": [
    "pattern = r'^Alquiler.*'\n",
    "alquiler_rows = raw_data[raw_data['house_type'].str.contains(pattern, regex=True)]\n",
    "raw_data.drop(alquiler_rows.index, inplace=True)"
   ]
  },
  {
   "cell_type": "code",
   "execution_count": 33,
   "metadata": {},
   "outputs": [
    {
     "data": {
      "text/plain": [
       "house_type\n",
       "Piso                           50206\n",
       "Casa o chalet independiente    13032\n",
       "Casa o chalet                   6411\n",
       "Chalet adosado                  5937\n",
       "Ático                           3261\n",
       "Casa de pueblo                  2977\n",
       "Dúplex                          2384\n",
       "Chalet pareado                  2304\n",
       "Finca rústica                   2254\n",
       "Casa rural                      1496\n",
       "Estudio                          678\n",
       "Caserón                          147\n",
       "Masía                            100\n",
       "Casa terrera                      68\n",
       "Cortijo                           30\n",
       "Palacio                           18\n",
       "Torre                             18\n",
       "Castillo                           8\n",
       "Name: count, dtype: int64"
      ]
     },
     "execution_count": 33,
     "metadata": {},
     "output_type": "execute_result"
    }
   ],
   "source": [
    "# Remove spaces before and after strings\n",
    "raw_data['house_type'] = raw_data['house_type'].str.strip()\n",
    "# verifying\n",
    "raw_data['house_type'].value_counts()"
   ]
  },
  {
   "cell_type": "markdown",
   "metadata": {},
   "source": [
    "Change values to U.S. real estate market terminology:\n",
    "\n",
    "- **Piso**: Apartment\n",
    "- **Casa o chalet independiente**: Single-Family Home\n",
    "- **Casa o chalet**: Single-Family Home\n",
    "- **Chalet adosado**: Townhouse\n",
    "- **Ático** : Penthouse\n",
    "- **Casa de pueblo**: Cottage\n",
    "- **Dúplex**: Duplex\n",
    "- **Chalet pareado**: Semi-Detached House\n",
    "- **Finca rústica**: Farmhouse\n",
    "- **Casa rural**: Rural House\n",
    "- **Estudio**: Studio Apartment\n",
    "- **Caserón**: Mansion\n",
    "- **Masía**: Country House\n",
    "- **Casa terrera**: Bungalow\n",
    "- **Cortijo**: Ranch House\n",
    "- **Torre**: Tower House\n",
    "- **Palacio** : Palace\n",
    "- **Castillo** : Castle"
   ]
  },
  {
   "cell_type": "code",
   "execution_count": 34,
   "metadata": {},
   "outputs": [
    {
     "data": {
      "text/plain": [
       "house_type\n",
       "Apartment              53467\n",
       "Single-Family Home     19443\n",
       "Townhouse               5937\n",
       "Cottage                 2977\n",
       "Duplex                  2384\n",
       "Semi-Detached House     2304\n",
       "Farmhouse               2254\n",
       "Rural House             1496\n",
       "Studio Apartment         678\n",
       "Mansion                  147\n",
       "Country House            100\n",
       "Bungalow                  68\n",
       "Ranch House               30\n",
       "Palace                    18\n",
       "Tower House               18\n",
       "Castle                     8\n",
       "Name: count, dtype: int64"
      ]
     },
     "execution_count": 34,
     "metadata": {},
     "output_type": "execute_result"
    }
   ],
   "source": [
    "house_type_dict = {\n",
    "    'Piso': 'Apartment',\n",
    "    'Casa o chalet independiente': 'Single-Family Home',\n",
    "    'Casa o chalet': 'Single-Family Home',\n",
    "    'Chalet adosado': 'Townhouse',\n",
    "    'Ático': 'Apartment',\n",
    "    'Casa de pueblo': 'Cottage',\n",
    "    'Dúplex': 'Duplex',\n",
    "    'Chalet pareado': 'Semi-Detached House',\n",
    "    'Finca rústica': 'Farmhouse',\n",
    "    'Casa rural': 'Rural House',\n",
    "    'Estudio': 'Studio Apartment',\n",
    "    'Caserón': 'Mansion',\n",
    "    'Masía': 'Country House',\n",
    "    'Casa terrera': 'Bungalow',\n",
    "    'Cortijo': 'Ranch House',\n",
    "    'Torre': 'Tower House',\n",
    "    'Palacio': 'Palace',\n",
    "    'Castillo': 'Castle'\n",
    "}\n",
    "raw_data['house_type'] = raw_data['house_type'].map(house_type_dict)\n",
    "# Verifying\n",
    "raw_data['house_type'].value_counts()"
   ]
  },
  {
   "cell_type": "markdown",
   "metadata": {},
   "source": [
    "#### bath_num"
   ]
  },
  {
   "cell_type": "code",
   "execution_count": 36,
   "metadata": {},
   "outputs": [
    {
     "data": {
      "text/plain": [
       "bath_num\n",
       "2            37095\n",
       "1            34080\n",
       "3            12044\n",
       "4             4559\n",
       "5             1661\n",
       "6              690\n",
       "sin baños      635\n",
       "7              255\n",
       "8              115\n",
       "9               60\n",
       "10              43\n",
       "11              23\n",
       "13              17\n",
       "12              14\n",
       "14              10\n",
       "15               9\n",
       "20               4\n",
       "18               3\n",
       "17               2\n",
       "16               2\n",
       "34               1\n",
       "84               1\n",
       "23               1\n",
       "19               1\n",
       "32               1\n",
       "30               1\n",
       "58               1\n",
       "75               1\n",
       "Name: count, dtype: int64"
      ]
     },
     "execution_count": 36,
     "metadata": {},
     "output_type": "execute_result"
    }
   ],
   "source": [
    "raw_data['bath_num'].value_counts().sort_values(ascending=False)"
   ]
  },
  {
   "cell_type": "code",
   "execution_count": 39,
   "metadata": {},
   "outputs": [
    {
     "data": {
      "text/plain": [
       "array(['2', '3', '1', '4', '7', '6', '15', '5', '0', '8', '10', '34',\n",
       "       '11', '9', '14', '12', '13', '20', '84', '16', '19', '23', '32',\n",
       "       '18', '17', '30', '58', '75'], dtype=object)"
      ]
     },
     "execution_count": 39,
     "metadata": {},
     "output_type": "execute_result"
    }
   ],
   "source": [
    "raw_data['bath_num'] = raw_data['bath_num'].replace('sin baños', '0')\n",
    "# Verifying\n",
    "raw_data['bath_num'].unique()"
   ]
  },
  {
   "cell_type": "markdown",
   "metadata": {},
   "source": [
    "#### loc_full"
   ]
  },
  {
   "cell_type": "code",
   "execution_count": 41,
   "metadata": {},
   "outputs": [
    {
     "data": {
      "text/plain": [
       "0              La iglesia , Urcabustaiz , Zuya, Álava \n",
       "1     la Union Plazatxoa, 8 , Legutiano , Zuya, Álava \n",
       "2          Calle Etxaguen s/n , Aramaio , Zuya, Álava \n",
       "3       CP 01449, 1449 CP , Urcabustaiz , Zuya, Álava \n",
       "4     Calle Nueva Plaza, 9 , Urcabustaiz , Zuya, Ál...\n",
       "Name: loc_full, dtype: object"
      ]
     },
     "execution_count": 41,
     "metadata": {},
     "output_type": "execute_result"
    }
   ],
   "source": [
    "raw_data['loc_full'].head()"
   ]
  },
  {
   "cell_type": "markdown",
   "metadata": {},
   "source": [
    "Remove the word 'Calle' to normalize addresses in preparation for geocoding"
   ]
  },
  {
   "cell_type": "code",
   "execution_count": 42,
   "metadata": {},
   "outputs": [
    {
     "data": {
      "text/plain": [
       "0              La iglesia , Urcabustaiz , Zuya, Álava \n",
       "1     la Union Plazatxoa, 8 , Legutiano , Zuya, Álava \n",
       "2                Etxaguen s/n , Aramaio , Zuya, Álava \n",
       "3       CP 01449, 1449 CP , Urcabustaiz , Zuya, Álava \n",
       "4          Nueva Plaza, 9 , Urcabustaiz , Zuya, Álava \n",
       "Name: loc_full, dtype: object"
      ]
     },
     "execution_count": 42,
     "metadata": {},
     "output_type": "execute_result"
    }
   ],
   "source": [
    "raw_data['loc_full'] = raw_data['loc_full'].str.replace(r'\\b[Cc]alle\\b', '', regex=True)\n",
    "# Verifiying\n",
    "raw_data['loc_full'].head()"
   ]
  },
  {
   "cell_type": "markdown",
   "metadata": {},
   "source": [
    "### Data derivation"
   ]
  },
  {
   "cell_type": "markdown",
   "metadata": {},
   "source": [
    "To obtain coordinates and a well-constructed complete address, the geolocator requires the street, number, and city. If any information is inaccurate, it returns `None`. In cases where a record contains incorrect data and cannot be geolocated, we will attempt to use fewer details, such as the city and municipality. The geolocator will then return the coordinates of the city. Examples:\n",
    "\n",
    "The incorrect initial content is removed, leaving the remaining data (city and province):\n",
    "- **CP 01449, 1449 CP, Urcabustaiz, Zuya, Álava**: `None`\n",
    "- **Urcabustaiz, Zuya, Álava**: Urkabustaiz, Gorbeialdea, Araba/Álava, Euskadi, Spain, (42.9709057, -2.9186291298186964)."
   ]
  },
  {
   "cell_type": "markdown",
   "metadata": {},
   "source": [
    "For this case, we create a new column by combining the `loc_city` and `loc_zone` variables to use this data when it is not possible to geolocate using the `loc_full` variable."
   ]
  },
  {
   "cell_type": "code",
   "execution_count": 43,
   "metadata": {},
   "outputs": [
    {
     "data": {
      "text/plain": [
       "0    Urcabustaiz, Zuya, Álava\n",
       "1      Legutiano, Zuya, Álava\n",
       "2        Aramaio, Zuya, Álava\n",
       "3    Urcabustaiz, Zuya, Álava\n",
       "4    Urcabustaiz, Zuya, Álava\n",
       "Name: city_prov, dtype: object"
      ]
     },
     "execution_count": 43,
     "metadata": {},
     "output_type": "execute_result"
    }
   ],
   "source": [
    "raw_data['city_prov'] = raw_data['loc_city'].str.cat(raw_data['loc_zone'], sep=', ')\n",
    "raw_data['city_prov'].head()"
   ]
  },
  {
   "cell_type": "markdown",
   "metadata": {},
   "source": [
    "Remove the `loc_city` and `loc_zone` variables from the dataframe."
   ]
  },
  {
   "cell_type": "code",
   "execution_count": 44,
   "metadata": {},
   "outputs": [],
   "source": [
    "raw_data = raw_data.drop(columns=['loc_city', 'loc_zone'])"
   ]
  },
  {
   "cell_type": "markdown",
   "metadata": {},
   "source": [
    "### Saving the Cleaned Data"
   ]
  },
  {
   "cell_type": "markdown",
   "metadata": {},
   "source": [
    "#### Validating Data Before Saving"
   ]
  },
  {
   "cell_type": "code",
   "execution_count": 49,
   "metadata": {},
   "outputs": [
    {
     "name": "stdout",
     "output_type": "stream",
     "text": [
      "<class 'pandas.core.frame.DataFrame'>\n",
      "Index: 91329 entries, 0 to 99999\n",
      "Data columns (total 15 columns):\n",
      " #   Column           Non-Null Count  Dtype  \n",
      "---  ------           --------------  -----  \n",
      " 0   air_conditioner  91329 non-null  int64  \n",
      " 1   bath_num         91329 non-null  int64  \n",
      " 2   chimney          91329 non-null  int64  \n",
      " 3   condition        91329 non-null  object \n",
      " 4   garage           91329 non-null  object \n",
      " 5   garden           91329 non-null  int64  \n",
      " 6   house_type       91329 non-null  object \n",
      " 7   loc_full         91329 non-null  object \n",
      " 8   m2_real          91329 non-null  int64  \n",
      " 9   price            91329 non-null  float64\n",
      " 10  room_num         91329 non-null  int64  \n",
      " 11  storage_room     91329 non-null  int64  \n",
      " 12  swimming_pool    91329 non-null  int64  \n",
      " 13  terrace          91329 non-null  int64  \n",
      " 14  city_prov        91329 non-null  object \n",
      "dtypes: float64(1), int64(9), object(5)\n",
      "memory usage: 11.1+ MB\n"
     ]
    }
   ],
   "source": [
    "raw_data.info()"
   ]
  },
  {
   "cell_type": "markdown",
   "metadata": {},
   "source": [
    "Some numerical variables were converted to object type due to mixed data types within the same column and how the data was loaded from the CSV file. The following function corrects this issue and assigns the correct data type to each column."
   ]
  },
  {
   "cell_type": "code",
   "execution_count": 48,
   "metadata": {},
   "outputs": [
    {
     "name": "stdout",
     "output_type": "stream",
     "text": [
      "air_conditioner      int64\n",
      "bath_num             int64\n",
      "chimney              int64\n",
      "condition           object\n",
      "garage              object\n",
      "garden               int64\n",
      "house_type          object\n",
      "loc_full            object\n",
      "m2_real              int64\n",
      "price              float64\n",
      "room_num             int64\n",
      "storage_room         int64\n",
      "swimming_pool        int64\n",
      "terrace              int64\n",
      "city_prov           object\n",
      "dtype: object\n"
     ]
    }
   ],
   "source": [
    "# List of columns to convert from object to numeric if possible\n",
    "columns_to_convert = ['air_conditioner', 'bath_num', 'chimney', 'garden',\n",
    "                      'storage_room', 'swimming_pool', 'terrace']\n",
    "\n",
    "# Apply pd.to_numeric() to each column.\n",
    "for column in columns_to_convert:\n",
    "    raw_data[column] = pd.to_numeric(raw_data[column])\n",
    "\n",
    "# Verifying the data types after conversion\n",
    "print(raw_data.dtypes)"
   ]
  },
  {
   "cell_type": "code",
   "execution_count": 52,
   "metadata": {},
   "outputs": [
    {
     "data": {
      "text/plain": [
       "1448"
      ]
     },
     "execution_count": 52,
     "metadata": {},
     "output_type": "execute_result"
    }
   ],
   "source": [
    "raw_data.to_csv('data/clean_data.csv', index=False)\n",
    "del raw_data\n",
    "gc.collect()"
   ]
  },
  {
   "cell_type": "markdown",
   "metadata": {},
   "source": [
    "### Geolocalization"
   ]
  },
  {
   "cell_type": "markdown",
   "metadata": {},
   "source": [
    "---"
   ]
  },
  {
   "cell_type": "markdown",
   "metadata": {},
   "source": [
    "**This section is only documented due to the time required to run geocoding. The functions and code segments used are shown.**"
   ]
  },
  {
   "cell_type": "markdown",
   "metadata": {},
   "source": [
    "---"
   ]
  },
  {
   "cell_type": "markdown",
   "metadata": {},
   "source": [
    "#### Obtain the full address, region, province, city, and coordinates through geolocation and integration of external data.\n",
    "\n",
    "For this process, we use the **geopy** library, a Python client for several popular geocoding web services. To have this library available, we need to install it via **pip** in the Bash terminal or directly in a Jupyter Notebook cell.\n",
    "\n",
    "```python\n",
    "    pip install geopy\n",
    "```\n",
    "\n",
    "Import the geocoder to be used; in this case, we will use **Nominatim**, an Open Source geolocator that utilizes OpenStreetMap.\n",
    "\n",
    "```python\n",
    "    # Import libraries\n",
    "    import requests\n",
    "    import time\n",
    "\n",
    "    # Import the geocoder\n",
    "    from geopy.geocoders import Nominatim\n",
    "\n",
    "    # Error handling\n",
    "    from geopy.exc import GeocoderTimedOut, GeocoderServiceError\n",
    "```"
   ]
  },
  {
   "cell_type": "markdown",
   "metadata": {},
   "source": [
    "#### Split the dataframe into chunks to optimize memory and execution time."
   ]
  },
  {
   "cell_type": "markdown",
   "metadata": {},
   "source": [
    "Given the file’s size, geolocating all entries at once would be inefficient and could lead to memory issues and very high processing time. To mitigate this, the file is **divided into chunks of 10,000 rows**. The create_chunks function is designed to split the DataFrame, save each chunk to disk, and generate a list of the file names."
   ]
  },
  {
   "cell_type": "markdown",
   "metadata": {},
   "source": [
    "```python\n",
    "    def create_chunks(df, chunksize, directory):\n",
    "        file_names = []\n",
    "        chunk_number = 0\n",
    "\n",
    "        # Iterar sobre el DataFrame en trozos de tamaño específico\n",
    "        for start in range(0, len(df), chunksize):\n",
    "            chunk_number += 1\n",
    "            chunk = df[start:start + chunksize]\n",
    "            # Guardar el chunk en un archivo CSV\n",
    "            file_name = f'{directory}/dataframe_{chunk_number}.csv'\n",
    "            chunk.to_csv(file_name, index=False)\n",
    "            file_names.append(file_name)\n",
    "            # Liberar memoria\n",
    "            del chunk\n",
    "            gc.collect()\n",
    "\n",
    "        return file_names\n",
    "```"
   ]
  },
  {
   "cell_type": "markdown",
   "metadata": {},
   "source": [
    "#### Declare variables and execute functions"
   ]
  },
  {
   "cell_type": "markdown",
   "metadata": {},
   "source": [
    "```python\n",
    "    # Output directory\n",
    "    directory = 'data/'\n",
    "\n",
    "    # Input File\n",
    "    df = pd.read_csv('data/clean_dataframe.csv')\n",
    "\n",
    "    # Chunks Size\n",
    "    chunksize = 10000\n",
    "\n",
    "    chunks_files = create_chunks(input_csv, chunksize, directory)\n",
    "    print(chunks_files)\n",
    "```"
   ]
  },
  {
   "cell_type": "markdown",
   "metadata": {},
   "source": [
    "#### Obtaining Latitude and Longitude"
   ]
  },
  {
   "cell_type": "markdown",
   "metadata": {},
   "source": [
    "The **geolocate** function takes the full address from the `loc_full` variable, attempts to geocode it, and returns the latitude and longitude. If there is an issue, it will try with the `city_prov` variable, which only includes the city and province. It will return `None` if neither of the two variables is successful. Between each iteration with the geolocator, it will wait for 1 second, which is the minimum time for each request with this geolocator. The function includes:\n",
    "\n",
    "- A loop to retry geolocation up to a maximum number of retries.\n",
    "- A 10-second timeout for each geolocation attempt, as set in the **geopy** configuration.\n",
    "- Error handling that includes a `time.sleep` with a `backoff_factor` to increase the wait time between retries."
   ]
  },
  {
   "cell_type": "markdown",
   "metadata": {},
   "source": [
    "```python\n",
    "    def geolocate(row, geolocator, retries=retries, backoff_factor=backoff_factor, timeout=timeout):\n",
    "        address = row['loc_full']\n",
    "        address_2 = row['city_prov']\n",
    "        \n",
    "        for attempt in range(retries):\n",
    "            try:\n",
    "                location = geolocator.geocode(address, timeout=timeout)\n",
    "                if not location:\n",
    "                    time.sleep(1)\n",
    "                    location = geolocator.geocode(address_2, timeout=timeout)\n",
    "                \n",
    "                if location:\n",
    "                    return pd.Series([location.latitude, location.longitude, location.address])\n",
    "                else:\n",
    "                    return pd.Series([None, None, None])\n",
    "            except (GeocoderTimedOut, GeocoderServiceError) as e:\n",
    "                print(f\"Error geocoding {address} or {address_2}: {e}\")\n",
    "                time.sleep(backoff_factor * (2 ** attempt))\n",
    "        return pd.Series([None, None, None])\n",
    "```"
   ]
  },
  {
   "cell_type": "markdown",
   "metadata": {},
   "source": [
    "The **split_address** function extracts the `postal code`, `region`, and `municipality` from the address provided by the geolocation."
   ]
  },
  {
   "cell_type": "markdown",
   "metadata": {},
   "source": [
    "```python\n",
    "    def split_address(df, address_col):\n",
    "        df = df.copy()   \n",
    "        p_codes = []\n",
    "        regions = []\n",
    "        municipalities = []\n",
    "\n",
    "        for address in df[address_col]:\n",
    "            if address:\n",
    "                parts = address.split(', ')\n",
    "                if len(parts) >= 3:\n",
    "                    possible_p_code = parts[-2]\n",
    "                    \n",
    "                    if len(possible_p_code) == 5 and possible_p_code.isdigit():\n",
    "                        p_code = possible_p_code\n",
    "                        region = parts[-3]\n",
    "                        municipality = parts[-4]\n",
    "                    else:\n",
    "                        p_code = None\n",
    "                        region = parts[-2]\n",
    "                        municipality = parts[-3]\n",
    "                else:\n",
    "                    p_code = None\n",
    "                    region = None\n",
    "                    municipality = None\n",
    "            else:\n",
    "                p_code = None\n",
    "                region = None\n",
    "                municipality = None\n",
    "\n",
    "            p_codes.append(p_code)\n",
    "            regions.append(region)\n",
    "            municipalities.append(municipality)\n",
    "        \n",
    "        df['p_code'] = p_codes\n",
    "        df['region'] = regions\n",
    "        df['municipality'] = municipalities\n",
    "        \n",
    "        return df\n",
    "```"
   ]
  },
  {
   "cell_type": "markdown",
   "metadata": {},
   "source": [
    "The **process_chunk** function generates the new data columns created with **geolocate** and **split_address** function and adds them to the section of the dataframe being processed, then saves it to a CSV file. It then frees the created dataframe from memory and forces garbage collection. This method ensures that the memory used by the dataframe is released after saving, helping to maintain efficient memory usage when processing large volumes of data."
   ]
  },
  {
   "cell_type": "markdown",
   "metadata": {},
   "source": [
    "```python\n",
    "    def process_chunk(chunk_file, directory, geolocator):\n",
    "    df_chunk = pd.read_csv(chunk_file)\n",
    "    location_data = []\n",
    "    \n",
    "    for idx, row in df_chunk.iterrows():\n",
    "        location_data.append(geolocate(row, geolocator))\n",
    "        time.sleep(1)  \n",
    "    df_chunk[['latitude', 'longitude', 'address']] = pd.DataFrame(location_data)\n",
    "    df_chunk = split_address(df_chunk, 'address')\n",
    "    \n",
    "    # Save dataframe\n",
    "    processed_file_name = f'{directory}/processed_{chunk_file.split(\"/\")[-1]}'\n",
    "    df_chunk.to_csv(processed_file_name, index=False)\n",
    "    \n",
    "    # Free memory\n",
    "    del df_chunk\n",
    "    gc.collect()\n",
    "    \n",
    "    return processed_file_name\n",
    "\n",
    "```"
   ]
  },
  {
   "cell_type": "markdown",
   "metadata": {},
   "source": [
    "#### Define Variables and Execute Functions"
   ]
  },
  {
   "cell_type": "markdown",
   "metadata": {},
   "source": [
    "```python\n",
    "    # Define geolocator\n",
    "    geolocator = Nominatim(user_agent=\"spanish_houses\")\n",
    "\n",
    "    # Funtions parameters\n",
    "    retries = 3\n",
    "    backoff_factor = 0.3\n",
    "    timeout = 10\n",
    "\n",
    "    # Define variables\n",
    "    directory = 'data/chunks/'\n",
    "\n",
    "    # Execute functions to obtain Latitude and Longitude\n",
    "    process_chunk('data/chunks/dataframe_1.csv', directory, geolocator)\n",
    "    process_chunk('data/chunks/dataframe_2.csv', directory, geolocator)\n",
    "    ...\n",
    "```"
   ]
  },
  {
   "cell_type": "markdown",
   "metadata": {},
   "source": [
    "---"
   ]
  },
  {
   "cell_type": "markdown",
   "metadata": {},
   "source": [
    "**End of Documented Section**"
   ]
  },
  {
   "cell_type": "markdown",
   "metadata": {},
   "source": [
    "---"
   ]
  }
 ],
 "metadata": {
  "kernelspec": {
   "display_name": "Python 3",
   "language": "python",
   "name": "python3"
  },
  "language_info": {
   "codemirror_mode": {
    "name": "ipython",
    "version": 3
   },
   "file_extension": ".py",
   "mimetype": "text/x-python",
   "name": "python",
   "nbconvert_exporter": "python",
   "pygments_lexer": "ipython3",
   "version": "3.12.0"
  }
 },
 "nbformat": 4,
 "nbformat_minor": 2
}
